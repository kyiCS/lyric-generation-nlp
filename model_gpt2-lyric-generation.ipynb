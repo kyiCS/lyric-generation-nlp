{
 "cells": [
  {
   "cell_type": "markdown",
   "id": "94137cec-2ca0-49fe-8899-521add4f66fb",
   "metadata": {},
   "source": [
    "Lyric Generation using GPT-2 Model<br>\n",
    "Group: Dawson Sargent, Chenghui Song, Kelvin Yi<br>\n",
    "Code by: Dawson Sargent<br><br>\n",
    "Note: Code was ran on Paperspace (as Cheaha was not working) with 45GiB Ram, 8 CPU, 16 GiB GPU"
   ]
  },
  {
   "cell_type": "code",
   "execution_count": 1,
   "id": "89f29d0e-0a7b-46cf-b00f-b6146e10795b",
   "metadata": {
    "execution": {
     "iopub.execute_input": "2022-12-03T05:33:07.769742Z",
     "iopub.status.busy": "2022-12-03T05:33:07.769155Z",
     "iopub.status.idle": "2022-12-03T05:33:18.922109Z",
     "shell.execute_reply": "2022-12-03T05:33:18.921578Z",
     "shell.execute_reply.started": "2022-12-03T05:33:07.769678Z"
    }
   },
   "outputs": [
    {
     "name": "stdout",
     "output_type": "stream",
     "text": [
      "\u001b[33mWARNING: Running pip as the 'root' user can result in broken permissions and conflicting behaviour with the system package manager. It is recommended to use a virtual environment instead: https://pip.pypa.io/warnings/venv\u001b[0m\u001b[33m\n",
      "\u001b[0m\u001b[33mWARNING: Running pip as the 'root' user can result in broken permissions and conflicting behaviour with the system package manager. It is recommended to use a virtual environment instead: https://pip.pypa.io/warnings/venv\u001b[0m\u001b[33m\n",
      "\u001b[0m"
     ]
    }
   ],
   "source": [
    "# necessary imports/installs\n",
    "!pip install transformers --quiet\n",
    "!pip install datasets --quiet\n",
    "import torch, os, re, pandas as pd, json\n",
    "from sklearn.model_selection import train_test_split\n",
    "from transformers import DataCollatorForLanguageModeling, DataCollatorWithPadding, GPT2Tokenizer, GPT2LMHeadModel, Trainer, TrainingArguments, AutoConfig\n",
    "from datasets import Dataset\n",
    "import tensorflow as tf"
   ]
  },
  {
   "cell_type": "code",
   "execution_count": 5,
   "id": "ef308294-e3a7-4c9b-b805-e4cd7b484e4b",
   "metadata": {
    "execution": {
     "iopub.execute_input": "2022-12-03T05:39:34.233202Z",
     "iopub.status.busy": "2022-12-03T05:39:34.232523Z",
     "iopub.status.idle": "2022-12-03T05:39:40.600701Z",
     "shell.execute_reply": "2022-12-03T05:39:40.600104Z",
     "shell.execute_reply.started": "2022-12-03T05:39:34.233202Z"
    }
   },
   "outputs": [
    {
     "name": "stdout",
     "output_type": "stream",
     "text": [
      "Number of songs from artist: 310\n"
     ]
    },
    {
     "data": {
      "text/html": [
       "<div>\n",
       "<style scoped>\n",
       "    .dataframe tbody tr th:only-of-type {\n",
       "        vertical-align: middle;\n",
       "    }\n",
       "\n",
       "    .dataframe tbody tr th {\n",
       "        vertical-align: top;\n",
       "    }\n",
       "\n",
       "    .dataframe thead th {\n",
       "        text-align: right;\n",
       "    }\n",
       "</style>\n",
       "<table border=\"1\" class=\"dataframe\">\n",
       "  <thead>\n",
       "    <tr style=\"text-align: right;\">\n",
       "      <th></th>\n",
       "      <th>Artist</th>\n",
       "      <th>SName</th>\n",
       "      <th>Lyric</th>\n",
       "    </tr>\n",
       "  </thead>\n",
       "  <tbody>\n",
       "    <tr>\n",
       "      <th>0</th>\n",
       "      <td>Lana Del Rey</td>\n",
       "      <td>Ride (Monologue)</td>\n",
       "      <td>\"I was in the winter of my life\\nAnd the men that I met along the road were my only summer.\\nAt night, I fell asleep with visions of myself\\nDancing and laughing and crying with them.\\n\\nThree years down the line of being on an endless world tour\\nAnd my memories of them were the only things that\\nSubstained me and my only real happy times.\\n\\nI was a singer, not a very popular one,\\nWho one had dreams of becoming a beautiful poet -\\nBut upon an unfortunate series of events\\nSaw those dreams dashed\\nAnd divided like a millions stars in the night sky\\nThat I wished on over and over again - sparkling and broken.\\n\\nBut I didn't really mind because I knew\\nThat it takes getting everything\\nYou ever wanted and then losing it\\nTo know what true freedom is.\\n\\nWhen the people I used to know\\nFound out what I had been doing\\nHow I had been living - they asked me why.\\nBut there's no use in talking to people who have a home,\\nThey have no idea what it's like to seek safety I\\nIn other people,\\nFor home to be wherever you lie your head.\\n\\nI was always an unusual girl,\\nMy mother told me I had a chameleon soul.\\nNo morall compass pointing due north, no fixed personality.\\nJust an inner indecisiveness\\nThat was as wide and as wavering as the ocean.\\nAnd if I said that I didn't plan\\nFor it to turn out this was, I'd be lying -\\nBecause I was born to be the other woman.\\n\\nI belong to no one - who belonged to everyone,\\nWho had nothing, who wanted everything\\nWith a fire for every experience\\nAnd an obsession for freedom\\nThat terrified me to the point I couldn't even talk about -\\nAnd pushed me to a nomatic point\\nOf madness that both dazzled and dizzied me.\"\\n\\nI've been out on that open road\\nYou can be my full time, daddy\\nWhite and gold\\nSinging blues has been getting old\\nYou can be my full time, baby\\nHot or cold\\n\\nDon't break me down\\nI've been traveling too long\\nI've been trying too hard\\nWith one pretty song\\n\\nI hear the birds on the summer breeze, I drive fast\\nI am alone in the night\\nBeen trying hard not to get into trouble, but I\\nI've got a war in my mind\\nSo, I just ride, I just ride\\nI just ride, I just ride\\nDying young and I'm playing hard\\nThat's the way my father made his life an art\\nDrink all day and we talk 'til dark\\nThat's the way the road doves do it, ride 'til dark\\n\\nDon't leave me now\\nDon't say goodbye\\nDon't turn around\\nLeave me high and dry\\n\\nI hear the birds on the summer breeze, I drive fast\\nI am alone in the night\\nBeen trying hard not to get into trouble, but I\\nI've got a war in my mind\\nI just ride, I just ride\\nI just ride, I just ride\\n\\nI'm tired of feeling like I'm f*cking crazy\\nI'm tired of driving 'til I see stars in my eyes\\nI look up to hear myself saying\\n\"Baby, too much I strive, I just ride\"\\n\\nI hear the birds on the summer breeze, I drive fast\\nI am alone in the night\\nBeen trying hard not to get into trouble, but I\\nI've got a war in my mind\\nI just ride, I just ride\\nI just ride, I just ride\\n\\n\"Every night I used to pray that I'd find my people -\\nAnd finally I did - on the open road.\\nWe had nothing to lose, nothing to gain\\nNothing we desired anymore -\\nExcept to make our lives into a work of art.\\n\\nLive fast. Die young.\\nBe wild, and have fun\\nI believe in the country America used to be.\\nI believe in the person I want to become.\\nI believe in the freedom of the open road.\\n\\nAnd my motto is the same as ever -\\nI believe in the kindness of strangers.\\nAnd when I'm at war with myself - I ride. I just ride.\\n\\nWho are you?\\nAre you in touch with all your darkest fantasies?\\nHave you created a life for yourself where you're free to experience them?\\nI have! I am fucking crazy, but I am free!\"</td>\n",
       "    </tr>\n",
       "    <tr>\n",
       "      <th>1</th>\n",
       "      <td>Lana Del Rey</td>\n",
       "      <td>Born To Die</td>\n",
       "      <td>Feet don't fail me now\\nTake me to the finish line\\nOh my heart it breaks every step that I take\\nBut I'm hoping at the gates\\nThey'll tell me that you're mine\\n\\nWalking through the city streets\\nIs it by mistake or desire?\\nI feel so alone on a Friday night\\nCan you make it feel like home\\nIf I tell you you're mine\\n\\nIt's like I told you honey\\n\\nDon't make me sad, don't make me cry\\nSometimes love is not enough\\nAnd the road gets tough\\nI don't know why\\nKeep making me laugh,\\nLet's go get high\\nThe road is long, we carry on\\nTry to have fun in the meantime\\n\\nCome and take a walk on the wild side\\nLet me kiss you hard in the pouring rain\\nYou like your girls insane\\nChoose your last words\\nThis is the last time\\nCause you and I\\n\\nWe were born to die\\n\\nLost but now I am found\\nI can see but once I was blind\\nI was so confused as a little child\\nTried to take what I could get\\nScared that I couldn't find\\nAll the answers honey\\n\\nDon't make me sad, don't make me cry\\nSometimes love is not enough\\nAnd the road gets tough\\nI don't know why\\nKeep making me laugh\\nLet's go get high\\nThe road's long, we carry on\\nTry to have fun in the meantime\\n\\nCome and take a walk on the wild side\\nLet me kiss you hard in the pouring rain\\nYou like your girls insane\\nChoose your last words,\\nThis is the last time\\nCause you and I\\n\\nWe were born to die\\nWe were born to die\\nWe were born to die\\n\\nCome and take a walk on the wild side\\nLet me kiss you hard in the pouring rain\\nYou like your girls insane\\n\\nDon't make me sad, don't make me cry\\nSometimes love is not enough\\nAnd the road gets tough\\nI don't know why\\nKeep making me laugh,\\nLet's go get high\\nThe road is long, we carry on\\nTry to have fun in the meantime\\n\\nCome and take a walk on the wild side\\nLet me kiss you hard in the pouring rain\\nYou like your girls insane\\nChoose your last words\\nThis is the last time\\nCause You and I\\n\\nWe were born to die\\nWe were born to die</td>\n",
       "    </tr>\n",
       "    <tr>\n",
       "      <th>2</th>\n",
       "      <td>Lana Del Rey</td>\n",
       "      <td>Video Games</td>\n",
       "      <td>Swinging in the backyard\\nPull up in your fast car\\nWhistling my name\\n\\nOpen up a beer\\nAnd you take it over here\\nAnd play a video game\\n\\nI'm in his favorite sun dress\\nWatching me get undressed\\nTake that body downtown\\n\\nI say you the bestest\\nLean in for a big kiss\\nPut his favorite perfume on\\n\\nGo play a video game\\n\\nIt's you, it's you, it's all for you\\nEverything I do\\nI tell you all the time\\nHeaven is a place on earth with you\\nTell me all the things you want to do\\nI heard that you like the bad girls\\nHoney, is that true?\\nIt's better than I ever even knew\\nThey say that the world was built for two\\nOnly worth living if somebody is loving you\\nBaby now you do\\n\\nSinging in the old bars\\nSwinging with the old stars\\nLiving for the fame\\n\\nKissing in the blue dark\\nPlaying pool and wild darts\\nVideo games\\n\\nHe holds me in his big arms\\nDrunk and I am seeing stars\\nThis is all I think of\\n\\nWatching all our friends fall\\nIn and out of Old Paul's\\nThis is my idea of fun\\nPlaying video games\\n\\nIt's you, it's you, it's all for you\\nEverything I do\\nI tell you all the time\\nHeaven is a place on earth with you\\nTell me all the things you want to do\\nI heard that you like the bad girls\\nHoney, is that true?\\nIt's better than I ever even knew\\nThey say that the world was built for two\\nOnly worth living if somebody is loving you\\nBaby now you do\\n\\n(Now you do)\\n\\nIt's you, it's you, it's all for you\\nEverything I do\\nI tell you all the time\\nHeaven is a place on earth with you\\nTell me all the things you want to do\\nI heard that you like the bad girls\\nHoney, is that true?\\nIt's better than I ever even knew\\nThey say that the world was built for two\\nOnly worth living if somebody is loving you\\nBaby now you do\\n\\n(now you do, now you do)\\nnow you do\\n(now you do, now you do, now you do)</td>\n",
       "    </tr>\n",
       "    <tr>\n",
       "      <th>3</th>\n",
       "      <td>Lana Del Rey</td>\n",
       "      <td>Summertime Sadness</td>\n",
       "      <td>Kiss me hard before you go\\nSummertime sadness\\nI just wanted you to know\\nThat baby, you're the best\\n\\nI got my red dress on tonight\\nDancing in the dark in the pale moonlight\\nDone my hair up real big beauty queen style\\nHigh heels off, I'm feeling alive\\n\\nOh, my God, I feel it in the air\\nTelephone wires above are sizzling like a snare\\nHoney I'm on fire, I feel it everywhere\\nNothing scares me anymore\\n\\nKiss me hard before you go\\nSummertime sadness\\nI just wanted you to know\\nThat baby, you're the best\\n\\nI've got that summertime, summertime sadness\\nS-s-summertime, summertime sadness\\nGot that summertime, summertime sadness\\nOh, oh oh\\n\\nI'm feelin' electric tonight\\nCruising down the coast goin' 'bout 99\\nGot my bad baby by my heavenly side\\nI know if I go, I'll die happy tonight\\n\\nOh, my God, I feel it in the air\\nTelephone wires above are sizzling like a snare\\nHoney I'm on fire, I feel it everywhere\\nNothing scares me anymore\\n\\nKiss me hard before you go\\nSummertime sadness\\nI just wanted you to know\\nThat baby, you're the best\\n\\nI've got that summertime, summertime sadness\\nS-s-summertime, summertime sadness\\nGot that summertime, summertime sadness\\nOh, oh oh\\n\\nI think I'll miss you forever\\nLike the stars miss the sun in the morning skies\\nLater's better than never\\nEven if you're gone I'm gonna drive, drive\\n\\nI've got that summertime, summertime sadness\\nS-s-summertime, summertime sadness\\nGot that summertime, summertime sadness\\nOh, oh oh\\n\\nKiss me hard before you go\\nSummertime sadness\\nI just wanted you to know\\nThat baby you're the best\\n\\nI've got that summertime, summertime sadness\\nS-s-summertime, summertime sadness\\nGot that summertime, summertime sadness\\nOh, oh oh</td>\n",
       "    </tr>\n",
       "    <tr>\n",
       "      <th>4</th>\n",
       "      <td>Lana Del Rey</td>\n",
       "      <td>Chemtrails Over the Country Club</td>\n",
       "      <td>I'm on the run with you my sweet love\\nThere's nothing wrong, contemplating God\\nUnder the chemtrails over the country club\\nWearing our jewels in the swimming pool\\nMe and my sister, just playing it cool\\nUnder the chemtrails, over the country club\\n\\nTake your turquoise and all of your jewels\\nGo to the market, the kids swimming pool\\nBaby what's your sign?\\nMy moon's in Leo, my Cancer is sun\\nYou won't play, you're no fun\\nWell I don't care, what they think\\nDrag racing my little red sports car\\nI'm not unhinged or unhappy, I'm just wild\\n\\nI'm on the run with you my sweet love\\nThere's nothing wrong, contemplating God\\nUnder the chemtrails over the country club\\nWearing our jewels in the swimming pool\\nMe and my sister, just playing it cool\\nUnder the chemtrails, over the country club\\n\\nMeet you for coffee\\nAt the elementary schools\\nWe'll laugh about nothing\\nAs the summer gets cool\\nIt's beautiful, how the steep\\nNormality settles down over me\\nI'm not bored or unhappy\\nI'm still so strange and wild\\n\\nYou're in the wind, I'm in the water\\nNobody's son, nobody's daughter\\nWatching the chemtrails over the country club\\nSuburbia, Barbara Road Market\\nWhat to do next? Baby, we'll love it\\nWhite picket chemtrails over the country club\\n\\nI know, I know\\nI know, I know\\n\\nWashing my hair, doing the laundry\\nLate night to be, I want you holding me\\nLike when we were kids\\nUnder chemtrails country club\\n\\nIt's never too late baby, so don't give up\\nIt's never too late baby, so don't give up\\nUnder the chemtrails, over the country club\\n(You're born in the December, I'm born in June)\\nYeah (Under the chemtrails, over the country club)\\nYou're born in the December, I'm born in June\\nYeah, my Cancer is sun, and my Leo is moon\\nMy Cancer is sun, my Leo is moon\\nYeah, yeah, yeah, yeah\\nYeah, yeah, yeah</td>\n",
       "    </tr>\n",
       "  </tbody>\n",
       "</table>\n",
       "</div>"
      ],
      "text/plain": [
       "         Artist                             SName  \\\n",
       "0  Lana Del Rey                  Ride (Monologue)   \n",
       "1  Lana Del Rey                       Born To Die   \n",
       "2  Lana Del Rey                       Video Games   \n",
       "3  Lana Del Rey                Summertime Sadness   \n",
       "4  Lana Del Rey  Chemtrails Over the Country Club   \n",
       "\n",
       "                                                                                                                                                                                                                                                                                                                                                                                                                                                                                                                                                                                                                                                                                                                                                                                                                                                                                                                                                                                                                                                                                                                                                                                                                                                                                                                                                                                                                                                                                                                                                                                                                                                                                                                                                                                                                                                                                                                                                                                                                                                                                                                                                                                                                                                                                                                                                                                                                                                                                                                                                                                                                                                                                                                                                                                                                                                                                                                                                                                                                                                                                                                                                                                                                                                                                                                                                                                                                                                                                                                                                                                                                                                                                                                                                                                                                                                            Lyric  \n",
       "0  \"I was in the winter of my life\\nAnd the men that I met along the road were my only summer.\\nAt night, I fell asleep with visions of myself\\nDancing and laughing and crying with them.\\n\\nThree years down the line of being on an endless world tour\\nAnd my memories of them were the only things that\\nSubstained me and my only real happy times.\\n\\nI was a singer, not a very popular one,\\nWho one had dreams of becoming a beautiful poet -\\nBut upon an unfortunate series of events\\nSaw those dreams dashed\\nAnd divided like a millions stars in the night sky\\nThat I wished on over and over again - sparkling and broken.\\n\\nBut I didn't really mind because I knew\\nThat it takes getting everything\\nYou ever wanted and then losing it\\nTo know what true freedom is.\\n\\nWhen the people I used to know\\nFound out what I had been doing\\nHow I had been living - they asked me why.\\nBut there's no use in talking to people who have a home,\\nThey have no idea what it's like to seek safety I\\nIn other people,\\nFor home to be wherever you lie your head.\\n\\nI was always an unusual girl,\\nMy mother told me I had a chameleon soul.\\nNo morall compass pointing due north, no fixed personality.\\nJust an inner indecisiveness\\nThat was as wide and as wavering as the ocean.\\nAnd if I said that I didn't plan\\nFor it to turn out this was, I'd be lying -\\nBecause I was born to be the other woman.\\n\\nI belong to no one - who belonged to everyone,\\nWho had nothing, who wanted everything\\nWith a fire for every experience\\nAnd an obsession for freedom\\nThat terrified me to the point I couldn't even talk about -\\nAnd pushed me to a nomatic point\\nOf madness that both dazzled and dizzied me.\"\\n\\nI've been out on that open road\\nYou can be my full time, daddy\\nWhite and gold\\nSinging blues has been getting old\\nYou can be my full time, baby\\nHot or cold\\n\\nDon't break me down\\nI've been traveling too long\\nI've been trying too hard\\nWith one pretty song\\n\\nI hear the birds on the summer breeze, I drive fast\\nI am alone in the night\\nBeen trying hard not to get into trouble, but I\\nI've got a war in my mind\\nSo, I just ride, I just ride\\nI just ride, I just ride\\nDying young and I'm playing hard\\nThat's the way my father made his life an art\\nDrink all day and we talk 'til dark\\nThat's the way the road doves do it, ride 'til dark\\n\\nDon't leave me now\\nDon't say goodbye\\nDon't turn around\\nLeave me high and dry\\n\\nI hear the birds on the summer breeze, I drive fast\\nI am alone in the night\\nBeen trying hard not to get into trouble, but I\\nI've got a war in my mind\\nI just ride, I just ride\\nI just ride, I just ride\\n\\nI'm tired of feeling like I'm f*cking crazy\\nI'm tired of driving 'til I see stars in my eyes\\nI look up to hear myself saying\\n\"Baby, too much I strive, I just ride\"\\n\\nI hear the birds on the summer breeze, I drive fast\\nI am alone in the night\\nBeen trying hard not to get into trouble, but I\\nI've got a war in my mind\\nI just ride, I just ride\\nI just ride, I just ride\\n\\n\"Every night I used to pray that I'd find my people -\\nAnd finally I did - on the open road.\\nWe had nothing to lose, nothing to gain\\nNothing we desired anymore -\\nExcept to make our lives into a work of art.\\n\\nLive fast. Die young.\\nBe wild, and have fun\\nI believe in the country America used to be.\\nI believe in the person I want to become.\\nI believe in the freedom of the open road.\\n\\nAnd my motto is the same as ever -\\nI believe in the kindness of strangers.\\nAnd when I'm at war with myself - I ride. I just ride.\\n\\nWho are you?\\nAre you in touch with all your darkest fantasies?\\nHave you created a life for yourself where you're free to experience them?\\nI have! I am fucking crazy, but I am free!\"  \n",
       "1                                                                                                                                                                                                                                                                                                                                                                                                                                                                                                                                                                                                                                                                                                                                                                                                                                                                                                                                                                                                                                                                                                                                                                                                                                                                                                                                                                                                                                                                                                                                                                                                                                                                                                                                                                                                                                Feet don't fail me now\\nTake me to the finish line\\nOh my heart it breaks every step that I take\\nBut I'm hoping at the gates\\nThey'll tell me that you're mine\\n\\nWalking through the city streets\\nIs it by mistake or desire?\\nI feel so alone on a Friday night\\nCan you make it feel like home\\nIf I tell you you're mine\\n\\nIt's like I told you honey\\n\\nDon't make me sad, don't make me cry\\nSometimes love is not enough\\nAnd the road gets tough\\nI don't know why\\nKeep making me laugh,\\nLet's go get high\\nThe road is long, we carry on\\nTry to have fun in the meantime\\n\\nCome and take a walk on the wild side\\nLet me kiss you hard in the pouring rain\\nYou like your girls insane\\nChoose your last words\\nThis is the last time\\nCause you and I\\n\\nWe were born to die\\n\\nLost but now I am found\\nI can see but once I was blind\\nI was so confused as a little child\\nTried to take what I could get\\nScared that I couldn't find\\nAll the answers honey\\n\\nDon't make me sad, don't make me cry\\nSometimes love is not enough\\nAnd the road gets tough\\nI don't know why\\nKeep making me laugh\\nLet's go get high\\nThe road's long, we carry on\\nTry to have fun in the meantime\\n\\nCome and take a walk on the wild side\\nLet me kiss you hard in the pouring rain\\nYou like your girls insane\\nChoose your last words,\\nThis is the last time\\nCause you and I\\n\\nWe were born to die\\nWe were born to die\\nWe were born to die\\n\\nCome and take a walk on the wild side\\nLet me kiss you hard in the pouring rain\\nYou like your girls insane\\n\\nDon't make me sad, don't make me cry\\nSometimes love is not enough\\nAnd the road gets tough\\nI don't know why\\nKeep making me laugh,\\nLet's go get high\\nThe road is long, we carry on\\nTry to have fun in the meantime\\n\\nCome and take a walk on the wild side\\nLet me kiss you hard in the pouring rain\\nYou like your girls insane\\nChoose your last words\\nThis is the last time\\nCause You and I\\n\\nWe were born to die\\nWe were born to die  \n",
       "2                                                                                                                                                                                                                                                                                                                                                                                                                                                                                                                                                                                                                                                                                                                                                                                                                                                                                                                                                                                                                                                                                                                                                                                                                                                                                                                                                                                                                                                                                                                                                                                                                                                                                                                                                                                                                                                                                                                                                                Swinging in the backyard\\nPull up in your fast car\\nWhistling my name\\n\\nOpen up a beer\\nAnd you take it over here\\nAnd play a video game\\n\\nI'm in his favorite sun dress\\nWatching me get undressed\\nTake that body downtown\\n\\nI say you the bestest\\nLean in for a big kiss\\nPut his favorite perfume on\\n\\nGo play a video game\\n\\nIt's you, it's you, it's all for you\\nEverything I do\\nI tell you all the time\\nHeaven is a place on earth with you\\nTell me all the things you want to do\\nI heard that you like the bad girls\\nHoney, is that true?\\nIt's better than I ever even knew\\nThey say that the world was built for two\\nOnly worth living if somebody is loving you\\nBaby now you do\\n\\nSinging in the old bars\\nSwinging with the old stars\\nLiving for the fame\\n\\nKissing in the blue dark\\nPlaying pool and wild darts\\nVideo games\\n\\nHe holds me in his big arms\\nDrunk and I am seeing stars\\nThis is all I think of\\n\\nWatching all our friends fall\\nIn and out of Old Paul's\\nThis is my idea of fun\\nPlaying video games\\n\\nIt's you, it's you, it's all for you\\nEverything I do\\nI tell you all the time\\nHeaven is a place on earth with you\\nTell me all the things you want to do\\nI heard that you like the bad girls\\nHoney, is that true?\\nIt's better than I ever even knew\\nThey say that the world was built for two\\nOnly worth living if somebody is loving you\\nBaby now you do\\n\\n(Now you do)\\n\\nIt's you, it's you, it's all for you\\nEverything I do\\nI tell you all the time\\nHeaven is a place on earth with you\\nTell me all the things you want to do\\nI heard that you like the bad girls\\nHoney, is that true?\\nIt's better than I ever even knew\\nThey say that the world was built for two\\nOnly worth living if somebody is loving you\\nBaby now you do\\n\\n(now you do, now you do)\\nnow you do\\n(now you do, now you do, now you do)  \n",
       "3                                                                                                                                                                                                                                                                                                                                                                                                                                                                                                                                                                                                                                                                                                                                                                                                                                                                                                                                                                                                                                                                                                                                                                                                                                                                                                                                                                                                                                                                                                                                                                                                                                                                                                                                                                                                                                                                                                                                                                                                                                                                    Kiss me hard before you go\\nSummertime sadness\\nI just wanted you to know\\nThat baby, you're the best\\n\\nI got my red dress on tonight\\nDancing in the dark in the pale moonlight\\nDone my hair up real big beauty queen style\\nHigh heels off, I'm feeling alive\\n\\nOh, my God, I feel it in the air\\nTelephone wires above are sizzling like a snare\\nHoney I'm on fire, I feel it everywhere\\nNothing scares me anymore\\n\\nKiss me hard before you go\\nSummertime sadness\\nI just wanted you to know\\nThat baby, you're the best\\n\\nI've got that summertime, summertime sadness\\nS-s-summertime, summertime sadness\\nGot that summertime, summertime sadness\\nOh, oh oh\\n\\nI'm feelin' electric tonight\\nCruising down the coast goin' 'bout 99\\nGot my bad baby by my heavenly side\\nI know if I go, I'll die happy tonight\\n\\nOh, my God, I feel it in the air\\nTelephone wires above are sizzling like a snare\\nHoney I'm on fire, I feel it everywhere\\nNothing scares me anymore\\n\\nKiss me hard before you go\\nSummertime sadness\\nI just wanted you to know\\nThat baby, you're the best\\n\\nI've got that summertime, summertime sadness\\nS-s-summertime, summertime sadness\\nGot that summertime, summertime sadness\\nOh, oh oh\\n\\nI think I'll miss you forever\\nLike the stars miss the sun in the morning skies\\nLater's better than never\\nEven if you're gone I'm gonna drive, drive\\n\\nI've got that summertime, summertime sadness\\nS-s-summertime, summertime sadness\\nGot that summertime, summertime sadness\\nOh, oh oh\\n\\nKiss me hard before you go\\nSummertime sadness\\nI just wanted you to know\\nThat baby you're the best\\n\\nI've got that summertime, summertime sadness\\nS-s-summertime, summertime sadness\\nGot that summertime, summertime sadness\\nOh, oh oh  \n",
       "4                                                                                                                                                                                                                                                                                                                                                                                                                                                                                                                                                                                                                                                                                                                                                                                                                                                                                                                                                                                                                                                                                                                                                                                                                                                                                                                                                                                                                                                                                                                                                                                                                                                                                                                                                                                                                                                                                                                                                            I'm on the run with you my sweet love\\nThere's nothing wrong, contemplating God\\nUnder the chemtrails over the country club\\nWearing our jewels in the swimming pool\\nMe and my sister, just playing it cool\\nUnder the chemtrails, over the country club\\n\\nTake your turquoise and all of your jewels\\nGo to the market, the kids swimming pool\\nBaby what's your sign?\\nMy moon's in Leo, my Cancer is sun\\nYou won't play, you're no fun\\nWell I don't care, what they think\\nDrag racing my little red sports car\\nI'm not unhinged or unhappy, I'm just wild\\n\\nI'm on the run with you my sweet love\\nThere's nothing wrong, contemplating God\\nUnder the chemtrails over the country club\\nWearing our jewels in the swimming pool\\nMe and my sister, just playing it cool\\nUnder the chemtrails, over the country club\\n\\nMeet you for coffee\\nAt the elementary schools\\nWe'll laugh about nothing\\nAs the summer gets cool\\nIt's beautiful, how the steep\\nNormality settles down over me\\nI'm not bored or unhappy\\nI'm still so strange and wild\\n\\nYou're in the wind, I'm in the water\\nNobody's son, nobody's daughter\\nWatching the chemtrails over the country club\\nSuburbia, Barbara Road Market\\nWhat to do next? Baby, we'll love it\\nWhite picket chemtrails over the country club\\n\\nI know, I know\\nI know, I know\\n\\nWashing my hair, doing the laundry\\nLate night to be, I want you holding me\\nLike when we were kids\\nUnder chemtrails country club\\n\\nIt's never too late baby, so don't give up\\nIt's never too late baby, so don't give up\\nUnder the chemtrails, over the country club\\n(You're born in the December, I'm born in June)\\nYeah (Under the chemtrails, over the country club)\\nYou're born in the December, I'm born in June\\nYeah, my Cancer is sun, and my Leo is moon\\nMy Cancer is sun, my Leo is moon\\nYeah, yeah, yeah, yeah\\nYeah, yeah, yeah  "
      ]
     },
     "execution_count": 5,
     "metadata": {},
     "output_type": "execute_result"
    }
   ],
   "source": [
    "# load the lyrics for a particular artist of choice\n",
    "artist =  \"Lana Del Rey\"\n",
    "\n",
    "# code from Chenghui\n",
    "lyrics = pd.read_csv('lyrics-data.csv') \n",
    "lyrics=lyrics.query(\"language=='en'\")\n",
    "artists = pd.read_csv(\"artists-data.csv\")\n",
    "lyrics_df = pd.merge(lyrics,artists,left_on=\"ALink\",right_on=\"Link\")\n",
    "lyrics_df = lyrics_df[[\"Artist\",\"Genres\",\"Popularity\",\"Songs\",\"SName\",\"Lyric\"]]\n",
    "lyrics_popular=lyrics_df.query(f\"Artist=='{artist}'\")\n",
    "lyrics_popular=lyrics_popular.sort_values(['Songs','Artist'], ascending=[False,True])\n",
    "lyrics_popular.head()\n",
    "raw_file = f\"{artist}_raw_data.csv\"\n",
    "lyrics_popular.to_csv(raw_file)\n",
    "print(\"Number of songs from artist:\",lyrics_popular.shape[0])\n",
    "\n",
    "\n",
    "# collect all lyrics from selected artist\n",
    "lyrics_artist = lyrics_popular[lyrics_popular.Artist==artist]['Lyric'].values.tolist()\n",
    "text = \"\"\n",
    "songs = []\n",
    "for i in range (len(lyrics_artist)):\n",
    "    s = lyrics_artist[i]\n",
    "    # remove unwanted text like [Chorus] or (Chorus)\n",
    "    s = re.sub(\"[\\(\\[].*?[\\)\\]]\", \"\", s)\n",
    "    songs.append(s)\n",
    "    text += lyrics_artist[i]+\"\\n\\n\"\n",
    "\n",
    "with open(\"lyrics_cleaned.txt\",'w', encoding=\"utf-8\") as f:\n",
    "    for line in songs:\n",
    "        f.write(line)\n",
    "        f.write(\"\\n\")\n",
    "\n",
    "        \n",
    "with open('lyrics_cleaned.txt') as f:\n",
    "    lines = f.readlines()\n",
    "\n",
    "section = ''\n",
    "# remove new line character strings -> [...,'\\n',...]\n",
    "songs = [i for i in songs if i != '\\n']\n",
    "section = ''\n",
    "sections = []\n",
    "\n",
    "# collect up lyrics that are ~2000 characters\n",
    "for text in lines:\n",
    "    if len(section) < 2000:\n",
    "        section += text\n",
    "    else:\n",
    "        sections.append(section.strip())\n",
    "        section = ''\n",
    "\n",
    "df = pd.DataFrame(sections)\n",
    "ready_file = f\"{artist}.csv\"\n",
    "df.to_csv(ready_file,index_label = \"id\", header= ['text'])\n",
    "\n",
    "# a look at the data\n",
    "data = pd.read_csv(raw_file, encoding = 'utf-8',usecols=['Artist','SName','Lyric'])\n",
    "pd.set_option(\"display.max_colwidth\", None)\n",
    "data.head(5)"
   ]
  },
  {
   "cell_type": "code",
   "execution_count": 6,
   "id": "684dfd23-891a-4af7-8dc6-717e3b2d3533",
   "metadata": {
    "execution": {
     "iopub.execute_input": "2022-12-03T05:39:46.095868Z",
     "iopub.status.busy": "2022-12-03T05:39:46.095332Z",
     "iopub.status.idle": "2022-12-03T05:39:57.283413Z",
     "shell.execute_reply": "2022-12-03T05:39:57.283024Z",
     "shell.execute_reply.started": "2022-12-03T05:39:46.095845Z"
    }
   },
   "outputs": [
    {
     "data": {
      "application/vnd.jupyter.widget-view+json": {
       "model_id": "65ac992a7ab4411e90e143c7511d37f4",
       "version_major": 2,
       "version_minor": 0
      },
      "text/plain": [
       "Downloading:   0%|          | 0.00/0.99M [00:00<?, ?B/s]"
      ]
     },
     "metadata": {},
     "output_type": "display_data"
    },
    {
     "data": {
      "application/vnd.jupyter.widget-view+json": {
       "model_id": "e9a435935c544911abaa1ebddfa59a7a",
       "version_major": 2,
       "version_minor": 0
      },
      "text/plain": [
       "Downloading:   0%|          | 0.00/446k [00:00<?, ?B/s]"
      ]
     },
     "metadata": {},
     "output_type": "display_data"
    },
    {
     "data": {
      "application/vnd.jupyter.widget-view+json": {
       "model_id": "54a812e2d911408bb98b5ee9a90969cc",
       "version_major": 2,
       "version_minor": 0
      },
      "text/plain": [
       "Downloading:   0%|          | 0.00/665 [00:00<?, ?B/s]"
      ]
     },
     "metadata": {},
     "output_type": "display_data"
    },
    {
     "data": {
      "application/vnd.jupyter.widget-view+json": {
       "model_id": "d32c957777364bc79022307295bc1e20",
       "version_major": 2,
       "version_minor": 0
      },
      "text/plain": [
       "Downloading:   0%|          | 0.00/523M [00:00<?, ?B/s]"
      ]
     },
     "metadata": {},
     "output_type": "display_data"
    },
    {
     "data": {
      "text/plain": [
       "Embedding(50260, 768)"
      ]
     },
     "execution_count": 6,
     "metadata": {},
     "output_type": "execute_result"
    }
   ],
   "source": [
    "# reference -> https://www.modeldifferently.com/en/2021/12/generación-de-fake-news-con-gpt-2/\n",
    "\n",
    "# new defined tokens\n",
    "bos = '<|BOS|>'\n",
    "eos = '<|EOS|>'\n",
    "pad = '<|pad|>'\n",
    "\n",
    "special_tokens_dict = {'eos_token': eos, 'bos_token': bos, 'pad_token': pad}\n",
    "tokenizer = GPT2Tokenizer.from_pretrained('gpt2')\n",
    "\n",
    "# add new defined tokens to the tokenizer\n",
    "num_added_toks = tokenizer.add_special_tokens(special_tokens_dict)\n",
    "\n",
    "# configure the model with the new tokens\n",
    "config = AutoConfig.from_pretrained('gpt2', bos_token_id=tokenizer.bos_token_id, eos_token_id=tokenizer.eos_token_id, pad_token_id=tokenizer.pad_token_id, output_hidden_states=False)\n",
    "\n",
    "# the pre-trained model is loaded with the custom configuration\n",
    "model = GPT2LMHeadModel.from_pretrained('gpt2', config=config)\n",
    "model.resize_token_embeddings(len(tokenizer))"
   ]
  },
  {
   "cell_type": "code",
   "execution_count": 7,
   "id": "56da550e-48b2-46f2-bc52-b84d357c0fc4",
   "metadata": {
    "execution": {
     "iopub.execute_input": "2022-12-03T05:40:57.007224Z",
     "iopub.status.busy": "2022-12-03T05:40:57.006708Z",
     "iopub.status.idle": "2022-12-03T05:40:57.104712Z",
     "shell.execute_reply": "2022-12-03T05:40:57.104224Z",
     "shell.execute_reply.started": "2022-12-03T05:40:57.007203Z"
    }
   },
   "outputs": [
    {
     "data": {
      "text/html": [
       "<div>\n",
       "<style scoped>\n",
       "    .dataframe tbody tr th:only-of-type {\n",
       "        vertical-align: middle;\n",
       "    }\n",
       "\n",
       "    .dataframe tbody tr th {\n",
       "        vertical-align: top;\n",
       "    }\n",
       "\n",
       "    .dataframe thead th {\n",
       "        text-align: right;\n",
       "    }\n",
       "</style>\n",
       "<table border=\"1\" class=\"dataframe\">\n",
       "  <thead>\n",
       "    <tr style=\"text-align: right;\">\n",
       "      <th></th>\n",
       "      <th>text</th>\n",
       "    </tr>\n",
       "  </thead>\n",
       "  <tbody>\n",
       "    <tr>\n",
       "      <th>0</th>\n",
       "      <td>\"I was in the winter of my life\\nAnd the men that I met along the road were my only summer.\\nAt night, I fell asleep with visions of myself\\nDancing and laughing and crying with them.\\n\\nThree years down the line of being on an endless world tour\\nAnd my memories of them were the only things that\\nSubstained me and my only real happy times.\\n\\nI was a singer, not a very popular one,\\nWho one had dreams of becoming a beautiful poet -\\nBut upon an unfortunate series of events\\nSaw those dreams dashed\\nAnd divided like a millions stars in the night sky\\nThat I wished on over and over again - sparkling and broken.\\n\\nBut I didn't really mind because I knew\\nThat it takes getting everything\\nYou ever wanted and then losing it\\nTo know what true freedom is.\\n\\nWhen the people I used to know\\nFound out what I had been doing\\nHow I had been living - they asked me why.\\nBut there's no use in talking to people who have a home,\\nThey have no idea what it's like to seek safety I\\nIn other people,\\nFor home to be wherever you lie your head.\\n\\nI was always an unusual girl,\\nMy mother told me I had a chameleon soul.\\nNo morall compass pointing due north, no fixed personality.\\nJust an inner indecisiveness\\nThat was as wide and as wavering as the ocean.\\nAnd if I said that I didn't plan\\nFor it to turn out this was, I'd be lying -\\nBecause I was born to be the other woman.\\n\\nI belong to no one - who belonged to everyone,\\nWho had nothing, who wanted everything\\nWith a fire for every experience\\nAnd an obsession for freedom\\nThat terrified me to the point I couldn't even talk about -\\nAnd pushed me to a nomatic point\\nOf madness that both dazzled and dizzied me.\"\\n\\nI've been out on that open road\\nYou can be my full time, daddy\\nWhite and gold\\nSinging blues has been getting old\\nYou can be my full time, baby\\nHot or cold\\n\\nDon't break me down\\nI've been traveling too long\\nI've been trying too hard\\nWith one pretty song\\n\\nI hear the birds on the summer breeze, I drive fast\\nI am alone in the night\\nBeen trying hard not to get into trouble, but I</td>\n",
       "    </tr>\n",
       "    <tr>\n",
       "      <th>1</th>\n",
       "      <td>So, I just ride, I just ride\\nI just ride, I just ride\\nDying young and I'm playing hard\\nThat's the way my father made his life an art\\nDrink all day and we talk 'til dark\\nThat's the way the road doves do it, ride 'til dark\\n\\nDon't leave me now\\nDon't say goodbye\\nDon't turn around\\nLeave me high and dry\\n\\nI hear the birds on the summer breeze, I drive fast\\nI am alone in the night\\nBeen trying hard not to get into trouble, but I\\nI've got a war in my mind\\nI just ride, I just ride\\nI just ride, I just ride\\n\\nI'm tired of feeling like I'm f*cking crazy\\nI'm tired of driving 'til I see stars in my eyes\\nI look up to hear myself saying\\n\"Baby, too much I strive, I just ride\"\\n\\nI hear the birds on the summer breeze, I drive fast\\nI am alone in the night\\nBeen trying hard not to get into trouble, but I\\nI've got a war in my mind\\nI just ride, I just ride\\nI just ride, I just ride\\n\\n\"Every night I used to pray that I'd find my people -\\nAnd finally I did - on the open road.\\nWe had nothing to lose, nothing to gain\\nNothing we desired anymore -\\nExcept to make our lives into a work of art.\\n\\nLive fast. Die young.\\nBe wild, and have fun\\nI believe in the country America used to be.\\nI believe in the person I want to become.\\nI believe in the freedom of the open road.\\n\\nAnd my motto is the same as ever -\\nI believe in the kindness of strangers.\\nAnd when I'm at war with myself - I ride. I just ride.\\n\\nWho are you?\\nAre you in touch with all your darkest fantasies?\\nHave you created a life for yourself where you're free to experience them?\\nI have! I am fucking crazy, but I am free!\"\\nFeet don't fail me now\\nTake me to the finish line\\nOh my heart it breaks every step that I take\\nBut I'm hoping at the gates\\nThey'll tell me that you're mine\\n\\nWalking through the city streets\\nIs it by mistake or desire?\\nI feel so alone on a Friday night\\nCan you make it feel like home\\nIf I tell you you're mine\\n\\nIt's like I told you honey\\n\\nDon't make me sad, don't make me cry\\nSometimes love is not enough\\nAnd the road gets tough\\nI don't know why</td>\n",
       "    </tr>\n",
       "    <tr>\n",
       "      <th>2</th>\n",
       "      <td>Let's go get high\\nThe road is long, we carry on\\nTry to have fun in the meantime\\n\\nCome and take a walk on the wild side\\nLet me kiss you hard in the pouring rain\\nYou like your girls insane\\nChoose your last words\\nThis is the last time\\nCause you and I\\n\\nWe were born to die\\n\\nLost but now I am found\\nI can see but once I was blind\\nI was so confused as a little child\\nTried to take what I could get\\nScared that I couldn't find\\nAll the answers honey\\n\\nDon't make me sad, don't make me cry\\nSometimes love is not enough\\nAnd the road gets tough\\nI don't know why\\nKeep making me laugh\\nLet's go get high\\nThe road's long, we carry on\\nTry to have fun in the meantime\\n\\nCome and take a walk on the wild side\\nLet me kiss you hard in the pouring rain\\nYou like your girls insane\\nChoose your last words,\\nThis is the last time\\nCause you and I\\n\\nWe were born to die\\nWe were born to die\\nWe were born to die\\n\\nCome and take a walk on the wild side\\nLet me kiss you hard in the pouring rain\\nYou like your girls insane\\n\\nDon't make me sad, don't make me cry\\nSometimes love is not enough\\nAnd the road gets tough\\nI don't know why\\nKeep making me laugh,\\nLet's go get high\\nThe road is long, we carry on\\nTry to have fun in the meantime\\n\\nCome and take a walk on the wild side\\nLet me kiss you hard in the pouring rain\\nYou like your girls insane\\nChoose your last words\\nThis is the last time\\nCause You and I\\n\\nWe were born to die\\nWe were born to die\\nSwinging in the backyard\\nPull up in your fast car\\nWhistling my name\\n\\nOpen up a beer\\nAnd you take it over here\\nAnd play a video game\\n\\nI'm in his favorite sun dress\\nWatching me get undressed\\nTake that body downtown\\n\\nI say you the bestest\\nLean in for a big kiss\\nPut his favorite perfume on\\n\\nGo play a video game\\n\\nIt's you, it's you, it's all for you\\nEverything I do\\nI tell you all the time\\nHeaven is a place on earth with you\\nTell me all the things you want to do\\nI heard that you like the bad girls\\nHoney, is that true?\\nIt's better than I ever even knew\\nThey say that the world was built for two</td>\n",
       "    </tr>\n",
       "  </tbody>\n",
       "</table>\n",
       "</div>"
      ],
      "text/plain": [
       "                                                                                                                                                                                                                                                                                                                                                                                                                                                                                                                                                                                                                                                                                                                                                                                                                                                                                                                                                                                                                                                                                                                                                                                                                                                                                                                                                                                                                                                                                                                                                                                                                                                                                                                                                                                                                                                                                                                                                                                                                                                                                                                                                                      text\n",
       "0                   \"I was in the winter of my life\\nAnd the men that I met along the road were my only summer.\\nAt night, I fell asleep with visions of myself\\nDancing and laughing and crying with them.\\n\\nThree years down the line of being on an endless world tour\\nAnd my memories of them were the only things that\\nSubstained me and my only real happy times.\\n\\nI was a singer, not a very popular one,\\nWho one had dreams of becoming a beautiful poet -\\nBut upon an unfortunate series of events\\nSaw those dreams dashed\\nAnd divided like a millions stars in the night sky\\nThat I wished on over and over again - sparkling and broken.\\n\\nBut I didn't really mind because I knew\\nThat it takes getting everything\\nYou ever wanted and then losing it\\nTo know what true freedom is.\\n\\nWhen the people I used to know\\nFound out what I had been doing\\nHow I had been living - they asked me why.\\nBut there's no use in talking to people who have a home,\\nThey have no idea what it's like to seek safety I\\nIn other people,\\nFor home to be wherever you lie your head.\\n\\nI was always an unusual girl,\\nMy mother told me I had a chameleon soul.\\nNo morall compass pointing due north, no fixed personality.\\nJust an inner indecisiveness\\nThat was as wide and as wavering as the ocean.\\nAnd if I said that I didn't plan\\nFor it to turn out this was, I'd be lying -\\nBecause I was born to be the other woman.\\n\\nI belong to no one - who belonged to everyone,\\nWho had nothing, who wanted everything\\nWith a fire for every experience\\nAnd an obsession for freedom\\nThat terrified me to the point I couldn't even talk about -\\nAnd pushed me to a nomatic point\\nOf madness that both dazzled and dizzied me.\"\\n\\nI've been out on that open road\\nYou can be my full time, daddy\\nWhite and gold\\nSinging blues has been getting old\\nYou can be my full time, baby\\nHot or cold\\n\\nDon't break me down\\nI've been traveling too long\\nI've been trying too hard\\nWith one pretty song\\n\\nI hear the birds on the summer breeze, I drive fast\\nI am alone in the night\\nBeen trying hard not to get into trouble, but I\n",
       "1               So, I just ride, I just ride\\nI just ride, I just ride\\nDying young and I'm playing hard\\nThat's the way my father made his life an art\\nDrink all day and we talk 'til dark\\nThat's the way the road doves do it, ride 'til dark\\n\\nDon't leave me now\\nDon't say goodbye\\nDon't turn around\\nLeave me high and dry\\n\\nI hear the birds on the summer breeze, I drive fast\\nI am alone in the night\\nBeen trying hard not to get into trouble, but I\\nI've got a war in my mind\\nI just ride, I just ride\\nI just ride, I just ride\\n\\nI'm tired of feeling like I'm f*cking crazy\\nI'm tired of driving 'til I see stars in my eyes\\nI look up to hear myself saying\\n\"Baby, too much I strive, I just ride\"\\n\\nI hear the birds on the summer breeze, I drive fast\\nI am alone in the night\\nBeen trying hard not to get into trouble, but I\\nI've got a war in my mind\\nI just ride, I just ride\\nI just ride, I just ride\\n\\n\"Every night I used to pray that I'd find my people -\\nAnd finally I did - on the open road.\\nWe had nothing to lose, nothing to gain\\nNothing we desired anymore -\\nExcept to make our lives into a work of art.\\n\\nLive fast. Die young.\\nBe wild, and have fun\\nI believe in the country America used to be.\\nI believe in the person I want to become.\\nI believe in the freedom of the open road.\\n\\nAnd my motto is the same as ever -\\nI believe in the kindness of strangers.\\nAnd when I'm at war with myself - I ride. I just ride.\\n\\nWho are you?\\nAre you in touch with all your darkest fantasies?\\nHave you created a life for yourself where you're free to experience them?\\nI have! I am fucking crazy, but I am free!\"\\nFeet don't fail me now\\nTake me to the finish line\\nOh my heart it breaks every step that I take\\nBut I'm hoping at the gates\\nThey'll tell me that you're mine\\n\\nWalking through the city streets\\nIs it by mistake or desire?\\nI feel so alone on a Friday night\\nCan you make it feel like home\\nIf I tell you you're mine\\n\\nIt's like I told you honey\\n\\nDon't make me sad, don't make me cry\\nSometimes love is not enough\\nAnd the road gets tough\\nI don't know why\n",
       "2  Let's go get high\\nThe road is long, we carry on\\nTry to have fun in the meantime\\n\\nCome and take a walk on the wild side\\nLet me kiss you hard in the pouring rain\\nYou like your girls insane\\nChoose your last words\\nThis is the last time\\nCause you and I\\n\\nWe were born to die\\n\\nLost but now I am found\\nI can see but once I was blind\\nI was so confused as a little child\\nTried to take what I could get\\nScared that I couldn't find\\nAll the answers honey\\n\\nDon't make me sad, don't make me cry\\nSometimes love is not enough\\nAnd the road gets tough\\nI don't know why\\nKeep making me laugh\\nLet's go get high\\nThe road's long, we carry on\\nTry to have fun in the meantime\\n\\nCome and take a walk on the wild side\\nLet me kiss you hard in the pouring rain\\nYou like your girls insane\\nChoose your last words,\\nThis is the last time\\nCause you and I\\n\\nWe were born to die\\nWe were born to die\\nWe were born to die\\n\\nCome and take a walk on the wild side\\nLet me kiss you hard in the pouring rain\\nYou like your girls insane\\n\\nDon't make me sad, don't make me cry\\nSometimes love is not enough\\nAnd the road gets tough\\nI don't know why\\nKeep making me laugh,\\nLet's go get high\\nThe road is long, we carry on\\nTry to have fun in the meantime\\n\\nCome and take a walk on the wild side\\nLet me kiss you hard in the pouring rain\\nYou like your girls insane\\nChoose your last words\\nThis is the last time\\nCause You and I\\n\\nWe were born to die\\nWe were born to die\\nSwinging in the backyard\\nPull up in your fast car\\nWhistling my name\\n\\nOpen up a beer\\nAnd you take it over here\\nAnd play a video game\\n\\nI'm in his favorite sun dress\\nWatching me get undressed\\nTake that body downtown\\n\\nI say you the bestest\\nLean in for a big kiss\\nPut his favorite perfume on\\n\\nGo play a video game\\n\\nIt's you, it's you, it's all for you\\nEverything I do\\nI tell you all the time\\nHeaven is a place on earth with you\\nTell me all the things you want to do\\nI heard that you like the bad girls\\nHoney, is that true?\\nIt's better than I ever even knew\\nThey say that the world was built for two"
      ]
     },
     "execution_count": 7,
     "metadata": {},
     "output_type": "execute_result"
    }
   ],
   "source": [
    "# print out the split up lyrics for training\n",
    "data = pd.read_csv(ready_file, encoding = 'utf-8', usecols=['text'])\n",
    "\n",
    "pd.set_option(\"display.max_colwidth\", None)\n",
    "data.head(3)"
   ]
  },
  {
   "cell_type": "code",
   "execution_count": 8,
   "id": "f5eb32ce-43aa-4e6a-8c64-b9cb7a041f45",
   "metadata": {
    "execution": {
     "iopub.execute_input": "2022-12-03T05:40:59.809569Z",
     "iopub.status.busy": "2022-12-03T05:40:59.809024Z",
     "iopub.status.idle": "2022-12-03T05:40:59.815925Z",
     "shell.execute_reply": "2022-12-03T05:40:59.815340Z",
     "shell.execute_reply.started": "2022-12-03T05:40:59.809548Z"
    }
   },
   "outputs": [
    {
     "name": "stdout",
     "output_type": "stream",
     "text": [
      "There are 198 sets of lyrics from Lana Del Rey songs for training and 22 for validation\n"
     ]
    }
   ],
   "source": [
    "# add beginning tag and ending tag to each set of lyrics\n",
    "data['text'] = bos+' '+data['text']+' '+eos\n",
    "\n",
    "# split up lyrics for training and validation\n",
    "data_train, data_val = train_test_split(data, train_size = 0.9, random_state = 77)\n",
    "print(f'There are {len(data_train)} sets of lyrics from {artist} songs for training and {len(data_val)} for validation')\n"
   ]
  },
  {
   "cell_type": "code",
   "execution_count": 10,
   "id": "43f31d61-fdc2-4c8e-9869-be8631eb0eb9",
   "metadata": {
    "execution": {
     "iopub.execute_input": "2022-12-03T05:41:12.282885Z",
     "iopub.status.busy": "2022-12-03T05:41:12.282116Z",
     "iopub.status.idle": "2022-12-03T05:41:13.289960Z",
     "shell.execute_reply": "2022-12-03T05:41:13.289333Z",
     "shell.execute_reply.started": "2022-12-03T05:41:12.282859Z"
    }
   },
   "outputs": [
    {
     "name": "stdout",
     "output_type": "stream",
     "text": [
      "        "
     ]
    },
    {
     "data": {
      "application/vnd.jupyter.widget-view+json": {
       "model_id": "365cffe593f349fda30118606c95093c",
       "version_major": 2,
       "version_minor": 0
      },
      "text/plain": [
       "#0:   0%|          | 0/1 [00:00<?, ?ba/s]"
      ]
     },
     "metadata": {},
     "output_type": "display_data"
    },
    {
     "name": "stdout",
     "output_type": "stream",
     "text": [
      " "
     ]
    },
    {
     "data": {
      "application/vnd.jupyter.widget-view+json": {
       "model_id": "f25a253c769844208e102914a05b5516",
       "version_major": 2,
       "version_minor": 0
      },
      "text/plain": [
       "#1:   0%|          | 0/1 [00:00<?, ?ba/s]"
      ]
     },
     "metadata": {},
     "output_type": "display_data"
    },
    {
     "name": "stdout",
     "output_type": "stream",
     "text": [
      " "
     ]
    },
    {
     "data": {
      "application/vnd.jupyter.widget-view+json": {
       "model_id": "46fd7f7aaa014e3d90b5cbf21366a91f",
       "version_major": 2,
       "version_minor": 0
      },
      "text/plain": [
       "#2:   0%|          | 0/1 [00:00<?, ?ba/s]"
      ]
     },
     "metadata": {},
     "output_type": "display_data"
    },
    {
     "data": {
      "application/vnd.jupyter.widget-view+json": {
       "model_id": "6e0d7a2321aa47feb8738cba69058ea3",
       "version_major": 2,
       "version_minor": 0
      },
      "text/plain": [
       "#3:   0%|          | 0/1 [00:00<?, ?ba/s]"
      ]
     },
     "metadata": {},
     "output_type": "display_data"
    },
    {
     "data": {
      "application/vnd.jupyter.widget-view+json": {
       "model_id": "6d59f99efb214b57afee880b2af4d8d4",
       "version_major": 2,
       "version_minor": 0
      },
      "text/plain": [
       "#4:   0%|          | 0/1 [00:00<?, ?ba/s]"
      ]
     },
     "metadata": {},
     "output_type": "display_data"
    },
    {
     "name": "stdout",
     "output_type": "stream",
     "text": [
      "       "
     ]
    },
    {
     "data": {
      "application/vnd.jupyter.widget-view+json": {
       "model_id": "e6c5d9bff5844e98ab91804cddc90a26",
       "version_major": 2,
       "version_minor": 0
      },
      "text/plain": [
       "#0:   0%|          | 0/1 [00:00<?, ?ba/s]"
      ]
     },
     "metadata": {},
     "output_type": "display_data"
    },
    {
     "name": "stdout",
     "output_type": "stream",
     "text": [
      "  "
     ]
    },
    {
     "data": {
      "application/vnd.jupyter.widget-view+json": {
       "model_id": "c41621894d93441eae1528ea1e120a88",
       "version_major": 2,
       "version_minor": 0
      },
      "text/plain": [
       "#1:   0%|          | 0/1 [00:00<?, ?ba/s]"
      ]
     },
     "metadata": {},
     "output_type": "display_data"
    },
    {
     "data": {
      "application/vnd.jupyter.widget-view+json": {
       "model_id": "b81f1d21898044c6a9e432f1b68b2645",
       "version_major": 2,
       "version_minor": 0
      },
      "text/plain": [
       "#2:   0%|          | 0/1 [00:00<?, ?ba/s]"
      ]
     },
     "metadata": {},
     "output_type": "display_data"
    },
    {
     "name": "stdout",
     "output_type": "stream",
     "text": [
      " "
     ]
    },
    {
     "data": {
      "application/vnd.jupyter.widget-view+json": {
       "model_id": "7680318804a54e21a5ea0f402069af4a",
       "version_major": 2,
       "version_minor": 0
      },
      "text/plain": [
       "#3:   0%|          | 0/1 [00:00<?, ?ba/s]"
      ]
     },
     "metadata": {},
     "output_type": "display_data"
    },
    {
     "data": {
      "application/vnd.jupyter.widget-view+json": {
       "model_id": "be93c644dc6244dd9e7e0464daf58ff6",
       "version_major": 2,
       "version_minor": 0
      },
      "text/plain": [
       "#4:   0%|          | 0/1 [00:00<?, ?ba/s]"
      ]
     },
     "metadata": {},
     "output_type": "display_data"
    }
   ],
   "source": [
    "# reference -> https://www.modeldifferently.com/en/2021/12/generación-de-fake-news-con-gpt-2/\n",
    "\n",
    "# load sets of data\n",
    "training_dataset = Dataset.from_pandas(data_train[['text']])\n",
    "validation_dataset = Dataset.from_pandas(data_val[['text']])\n",
    "\n",
    "def tok_fun(text):\n",
    "    return tokenizer(text['text'], truncation=True,padding=True)\n",
    "\n",
    "\n",
    "tokenized_train_dataset = training_dataset.map(\n",
    "    tok_fun,\n",
    "    batched=True,\n",
    "    num_proc=5,\n",
    "    remove_columns=['text'],\n",
    ")\n",
    "tokenized_val_dataset = validation_dataset.map(\n",
    "    tok_fun,\n",
    "    batched=True,\n",
    "    num_proc=5,\n",
    "    remove_columns=['text'],\n",
    ")"
   ]
  },
  {
   "cell_type": "markdown",
   "id": "cf8bbe92-d4ff-4b2b-970f-a19fa371f857",
   "metadata": {},
   "source": [
    "TRAINING"
   ]
  },
  {
   "cell_type": "code",
   "execution_count": 11,
   "id": "83da3c33-12bc-4f57-97f7-9401c3e445b0",
   "metadata": {
    "execution": {
     "iopub.execute_input": "2022-12-03T05:41:16.907550Z",
     "iopub.status.busy": "2022-12-03T05:41:16.906937Z",
     "iopub.status.idle": "2022-12-03T05:42:31.672017Z",
     "shell.execute_reply": "2022-12-03T05:42:31.671525Z",
     "shell.execute_reply.started": "2022-12-03T05:41:16.907523Z"
    }
   },
   "outputs": [
    {
     "name": "stderr",
     "output_type": "stream",
     "text": [
      "The following columns in the training set don't have a corresponding argument in `GPT2LMHeadModel.forward` and have been ignored: __index_level_0__. If __index_level_0__ are not expected by `GPT2LMHeadModel.forward`,  you can safely ignore this message.\n",
      "/usr/local/lib/python3.9/dist-packages/transformers/optimization.py:306: FutureWarning: This implementation of AdamW is deprecated and will be removed in a future version. Use the PyTorch implementation torch.optim.AdamW instead, or set `no_deprecation_warning=True` to disable this warning\n",
      "  warnings.warn(\n",
      "***** Running training *****\n",
      "  Num examples = 198\n",
      "  Num Epochs = 3\n",
      "  Instantaneous batch size per device = 5\n",
      "  Total train batch size (w. parallel, distributed & accumulation) = 5\n",
      "  Gradient Accumulation steps = 1\n",
      "  Total optimization steps = 120\n"
     ]
    },
    {
     "data": {
      "text/html": [
       "\n",
       "    <div>\n",
       "      \n",
       "      <progress value='120' max='120' style='width:300px; height:20px; vertical-align: middle;'></progress>\n",
       "      [120/120 01:10, Epoch 3/3]\n",
       "    </div>\n",
       "    <table border=\"1\" class=\"dataframe\">\n",
       "  <thead>\n",
       " <tr style=\"text-align: left;\">\n",
       "      <th>Step</th>\n",
       "      <th>Training Loss</th>\n",
       "    </tr>\n",
       "  </thead>\n",
       "  <tbody>\n",
       "  </tbody>\n",
       "</table><p>"
      ],
      "text/plain": [
       "<IPython.core.display.HTML object>"
      ]
     },
     "metadata": {},
     "output_type": "display_data"
    },
    {
     "name": "stderr",
     "output_type": "stream",
     "text": [
      "\n",
      "\n",
      "Training completed. Do not forget to share your model on huggingface.co/models =)\n",
      "\n",
      "\n"
     ]
    },
    {
     "data": {
      "text/plain": [
       "TrainOutput(global_step=120, training_loss=17.28941650390625, metrics={'train_runtime': 71.8105, 'train_samples_per_second': 8.272, 'train_steps_per_second': 1.671, 'total_flos': 224991321984000.0, 'train_loss': 17.28941650390625, 'epoch': 3.0})"
      ]
     },
     "execution_count": 11,
     "metadata": {},
     "output_type": "execute_result"
    }
   ],
   "source": [
    "# reference -> https://www.modeldifferently.com/en/2021/12/generación-de-fake-news-con-gpt-2/\n",
    "\n",
    "path = './lyric_generator'\n",
    "\n",
    "# arguments to used for training the model\n",
    "training_args = TrainingArguments(\n",
    "    output_dir=path,\n",
    "    num_train_epochs=3,\n",
    "    per_device_train_batch_size=5,\n",
    "    per_device_eval_batch_size=32,\n",
    "    warmup_steps=200,\n",
    "    weight_decay=0.01,\n",
    "    logging_dir=path,\n",
    "    prediction_loss_only=True,\n",
    "    save_steps=10000)\n",
    "\n",
    "# defined data collator\n",
    "data_collator = DataCollatorForLanguageModeling(tokenizer=tokenizer,mlm=False)\n",
    "\n",
    "# training for model\n",
    "trainer = Trainer(\n",
    "    model=model,                        \n",
    "    args=training_args,                 \n",
    "    data_collator=data_collator,\n",
    "    train_dataset=tokenized_train_dataset, \n",
    "    eval_dataset=tokenized_val_dataset\n",
    ")\n",
    "trainer.train()"
   ]
  },
  {
   "cell_type": "code",
   "execution_count": 12,
   "id": "3c900f62-72ad-4b4b-bad6-17e2f3c95947",
   "metadata": {
    "execution": {
     "iopub.execute_input": "2022-12-03T05:42:54.997586Z",
     "iopub.status.busy": "2022-12-03T05:42:54.997330Z",
     "iopub.status.idle": "2022-12-03T05:42:58.070257Z",
     "shell.execute_reply": "2022-12-03T05:42:58.069562Z",
     "shell.execute_reply.started": "2022-12-03T05:42:54.997567Z"
    }
   },
   "outputs": [
    {
     "name": "stdout",
     "output_type": "stream",
     "text": [
      "Generated Lana Del Rey lyrics\n",
      "Sequence 1:\n",
      "You want to die in a woodwind\n",
      "Even though you do,I'm not dead. You just come through with your loveHappily ever after is it?When I got his gold from the gilded bowl and was looking for another bottle of champagneBarely gone - that's where we wereAll our lives have been lostIn my eyes are yellow because i can't imagine how she would treat meAfter everything so farWhat did he mean...It didn never happen again when nobody knew about what happenedBack there before they made up their mindsThey came back home'The day will be forever spent on this road no matter who wonFor all those hours like these days don´t feel bad let us talk 'til then if anything happensWe think nothing makes sense but fearthe real worldIs more than enoughBut as longlots go bywe've lived hereand nowhere\"\n",
      "\n",
      "\n",
      "\n",
      "Sequence 2:\n",
      "I can't handle my own painYou think you should be a saint-like being, but it's too lateA summer storm is falling on meBut I must go to the moon and see who wants more?\n",
      "My body has been\n",
      "\n",
      "Sequence 3:\n",
      "A new, my own in a\n",
      "New York City can do the same old'Cause you said it was so bad to say that\n",
      "\n",
      "Fifty-five times I'm going out for love and want something different than any one of them ever since.Loving women is just...my favorite drug!I wish there were more drugs on this world at least once every time when someone says \"No\"Is not true?It turns sometimes as if things look like they should get used again too by everybody anymore because everyone wants money nowBut no such thing has been everywhere lately.. with people who put their names aheadof life into your hands...Now even without me doing anything wrong all over while then waiting but forgetting everything which could've happened next beforeMy body didn't feel cold after long agoWhen getting away from home wasn's good enoughFor those friends wanted what had occurred hereTonight would probably be an amazing dayIf he or she couldn knowWhat kindon gave her better wishesAfter most other girls tried hardin vainbut maybe have never done how we got togetherAll these years untilThen yes let some thoughts go backTo meet our goal…or stay silentall nightis very sweet feeling insideWe don`t need nothing else up yet anywayEverynight felt incredibleWell thought about being happyOne moment 'bout goldends are his dreams'.And many nights fall upon himSome days come off sunshine comes clearIn hopesforlifeLivingly aloneWith endless passionand dancing around each\n",
      "\n",
      "Sequence 4:\n",
      "It makes make you understand\n",
      "You're the same as me, right?That's why I like your girl\n",
      "\n",
      "Don't tell anyone else what to do is a lie  But for us not enough with them that we can pull through this and they are good things in life. It seems too easy now but it feels so damn worth playing around about being just sweet after doing nothing on her body alone at all since my heart hurt when she\n",
      "\n",
      "Sequence 5:\n",
      " be\n",
      "\n"
     ]
    }
   ],
   "source": [
    "# sample generated lyrics\n",
    "# reference -> https://www.modeldifferently.com/en/2021/12/generación-de-fake-news-con-gpt-2/\n",
    "\n",
    "text ='<|BOS|>'\n",
    "device = \"cuda:0\"\n",
    "input_text = tokenizer.encode(text, return_tensors = 'pt')\n",
    "input_text = input_text.to(device)\n",
    "model = model.to(device)\n",
    "samples = model.generate(\n",
    "        input_text, \n",
    "        max_length= 300,  \n",
    "        num_return_sequences= 5,\n",
    "        no_repeat_ngram_size= 2,\n",
    "        repetition_penalty= 1.5,\n",
    "        top_p= 0.92,\n",
    "        temperature= .9,\n",
    "        do_sample= True,\n",
    "        top_k= 125)\n",
    "\n",
    "generated = []\n",
    "for each in samples:\n",
    "    text = tokenizer.decode(each, skip_special_tokens=True)\n",
    "    generated.append(text)\n",
    "    \n",
    "print(f\"Generated {artist} lyrics\")\n",
    "count = 1\n",
    "for each in generated:\n",
    "    print(f\"Sequence {count}:\")\n",
    "    count += 1\n",
    "    print(each)\n",
    "    print()\n",
    "\n"
   ]
  },
  {
   "cell_type": "markdown",
   "id": "0015bf5c-023f-4c48-8305-49a2e44fa21b",
   "metadata": {},
   "source": [
    "Reference tutorial for code: https://www.modeldifferently.com/en/2021/12/generación-de-fake-news-con-gpt-2/ <br>\n",
    "Reference for data: https://www.kaggle.com/datasets/neisse/scrapped-lyrics-from-6-genres"
   ]
  }
 ],
 "metadata": {
  "kernelspec": {
   "display_name": "Python 3 (ipykernel)",
   "language": "python",
   "name": "python3"
  },
  "language_info": {
   "codemirror_mode": {
    "name": "ipython",
    "version": 3
   },
   "file_extension": ".py",
   "mimetype": "text/x-python",
   "name": "python",
   "nbconvert_exporter": "python",
   "pygments_lexer": "ipython3",
   "version": "3.9.13"
  }
 },
 "nbformat": 4,
 "nbformat_minor": 5
}
