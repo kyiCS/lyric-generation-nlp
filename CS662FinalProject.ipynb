{
 "cells": [
  {
   "cell_type": "markdown",
   "id": "1824140c",
   "metadata": {},
   "source": [
    "# CS662 Final Project - Lyric generation\n",
    "Dawson Sargent, Chenghui Song, Kelvin Yi"
   ]
  },
  {
   "cell_type": "markdown",
   "id": "ab6da509",
   "metadata": {},
   "source": [
    "##### Data source: https://www.kaggle.com/datasets/neisse/scrapped-lyrics-from-6-genres?select=lyrics-data.csv \n",
    "Two csv datasets are needed:\n",
    "* lyrics-data.csv: contains Link to the artist profile in Vagalume.com, Song's name, Link to the song lyrics in Vagalume.com, Song lyrics, Lyrics' language\n",
    "* artists-data.csv: contains Artist name, Musical styles, Number os songs the artista has, Popularity score based on how much each artist/lyric is accessed on the website, Link to the artist profile in Vagalume.com"
   ]
  },
  {
   "cell_type": "markdown",
   "id": "682df947",
   "metadata": {},
   "source": [
    "The requirements_cs is just a backup of my current enviroment. You may not need all the dependencies. -Chenghui"
   ]
  },
  {
   "cell_type": "code",
   "execution_count": 6,
   "id": "80deecbe",
   "metadata": {},
   "outputs": [],
   "source": [
    "import pandas as pd\n",
    "import numpy as np\n",
    "import matplotlib.pyplot as plt"
   ]
  },
  {
   "cell_type": "code",
   "execution_count": 3,
   "id": "1a57e431",
   "metadata": {
    "scrolled": true
   },
   "outputs": [
    {
     "name": "stdout",
     "output_type": "stream",
     "text": [
      "shape of the dataset: (191387, 7)\n"
     ]
    },
    {
     "data": {
      "text/html": [
       "<div>\n",
       "<style scoped>\n",
       "    .dataframe tbody tr th:only-of-type {\n",
       "        vertical-align: middle;\n",
       "    }\n",
       "\n",
       "    .dataframe tbody tr th {\n",
       "        vertical-align: top;\n",
       "    }\n",
       "\n",
       "    .dataframe thead th {\n",
       "        text-align: right;\n",
       "    }\n",
       "</style>\n",
       "<table border=\"1\" class=\"dataframe\">\n",
       "  <thead>\n",
       "    <tr style=\"text-align: right;\">\n",
       "      <th></th>\n",
       "      <th>SName</th>\n",
       "      <th>Lyric</th>\n",
       "      <th>Genres</th>\n",
       "      <th>Artist</th>\n",
       "      <th>Songs</th>\n",
       "      <th>Popularity</th>\n",
       "      <th>Link</th>\n",
       "    </tr>\n",
       "  </thead>\n",
       "  <tbody>\n",
       "    <tr>\n",
       "      <th>0</th>\n",
       "      <td>Careless Whisper</td>\n",
       "      <td>I feel so unsure\\nAs I take your hand and lead...</td>\n",
       "      <td>Pop; Axé; Romântico</td>\n",
       "      <td>Ivete Sangalo</td>\n",
       "      <td>313.0</td>\n",
       "      <td>4.4</td>\n",
       "      <td>/ivete-sangalo/</td>\n",
       "    </tr>\n",
       "    <tr>\n",
       "      <th>1</th>\n",
       "      <td>Could You Be Loved / Citação Musical do Rap: S...</td>\n",
       "      <td>Don't let them fool, ya\\nOr even try to school...</td>\n",
       "      <td>Pop; Axé; Romântico</td>\n",
       "      <td>Ivete Sangalo</td>\n",
       "      <td>313.0</td>\n",
       "      <td>4.4</td>\n",
       "      <td>/ivete-sangalo/</td>\n",
       "    </tr>\n",
       "    <tr>\n",
       "      <th>2</th>\n",
       "      <td>Cruisin' (Part. Saulo)</td>\n",
       "      <td>Baby, let's cruise, away from here\\nDon't be c...</td>\n",
       "      <td>Pop; Axé; Romântico</td>\n",
       "      <td>Ivete Sangalo</td>\n",
       "      <td>313.0</td>\n",
       "      <td>4.4</td>\n",
       "      <td>/ivete-sangalo/</td>\n",
       "    </tr>\n",
       "    <tr>\n",
       "      <th>3</th>\n",
       "      <td>Easy</td>\n",
       "      <td>Know it sounds funny\\nBut, I just can't stand ...</td>\n",
       "      <td>Pop; Axé; Romântico</td>\n",
       "      <td>Ivete Sangalo</td>\n",
       "      <td>313.0</td>\n",
       "      <td>4.4</td>\n",
       "      <td>/ivete-sangalo/</td>\n",
       "    </tr>\n",
       "    <tr>\n",
       "      <th>4</th>\n",
       "      <td>For Your Babies (The Voice cover)</td>\n",
       "      <td>You've got that look again\\nThe one I hoped I ...</td>\n",
       "      <td>Pop; Axé; Romântico</td>\n",
       "      <td>Ivete Sangalo</td>\n",
       "      <td>313.0</td>\n",
       "      <td>4.4</td>\n",
       "      <td>/ivete-sangalo/</td>\n",
       "    </tr>\n",
       "  </tbody>\n",
       "</table>\n",
       "</div>"
      ],
      "text/plain": [
       "                                               SName  \\\n",
       "0                                   Careless Whisper   \n",
       "1  Could You Be Loved / Citação Musical do Rap: S...   \n",
       "2                             Cruisin' (Part. Saulo)   \n",
       "3                                               Easy   \n",
       "4                  For Your Babies (The Voice cover)   \n",
       "\n",
       "                                               Lyric               Genres  \\\n",
       "0  I feel so unsure\\nAs I take your hand and lead...  Pop; Axé; Romântico   \n",
       "1  Don't let them fool, ya\\nOr even try to school...  Pop; Axé; Romântico   \n",
       "2  Baby, let's cruise, away from here\\nDon't be c...  Pop; Axé; Romântico   \n",
       "3  Know it sounds funny\\nBut, I just can't stand ...  Pop; Axé; Romântico   \n",
       "4  You've got that look again\\nThe one I hoped I ...  Pop; Axé; Romântico   \n",
       "\n",
       "          Artist  Songs  Popularity             Link  \n",
       "0  Ivete Sangalo  313.0         4.4  /ivete-sangalo/  \n",
       "1  Ivete Sangalo  313.0         4.4  /ivete-sangalo/  \n",
       "2  Ivete Sangalo  313.0         4.4  /ivete-sangalo/  \n",
       "3  Ivete Sangalo  313.0         4.4  /ivete-sangalo/  \n",
       "4  Ivete Sangalo  313.0         4.4  /ivete-sangalo/  "
      ]
     },
     "execution_count": 3,
     "metadata": {},
     "output_type": "execute_result"
    }
   ],
   "source": [
    "# Merge the two dataset to include the columns we want\n",
    "lyrics = pd.read_csv(\"lyrics-data.csv\") # \n",
    "lyrics=lyrics.query(\"language=='en'\")\n",
    "artists = pd.read_csv(\"artists-data.csv\")\n",
    "lyrics_en = pd.merge(lyrics,artists,left_on=\"ALink\",right_on=\"Link\")\n",
    "lyrics_en = lyrics_en[[\"SName\",\"Lyric\",\"Genres\",\"Artist\",\"Songs\",\"Popularity\",\"Link\"]]\n",
    "        # Note: Popularity score based on how much each artist/lyric is accessed on the website\n",
    "print(\"shape of the dataset:\",lyrics_en.shape)\n",
    "lyrics_en.head()"
   ]
  },
  {
   "cell_type": "code",
   "execution_count": 4,
   "id": "2aa778c2",
   "metadata": {},
   "outputs": [
    {
     "name": "stdout",
     "output_type": "stream",
     "text": [
      "<class 'pandas.core.frame.DataFrame'>\n",
      "Int64Index: 191387 entries, 0 to 191386\n",
      "Data columns (total 7 columns):\n",
      " #   Column      Non-Null Count   Dtype  \n",
      "---  ------      --------------   -----  \n",
      " 0   SName       191385 non-null  object \n",
      " 1   Lyric       191387 non-null  object \n",
      " 2   Genres      191378 non-null  object \n",
      " 3   Artist      191387 non-null  object \n",
      " 4   Songs       191387 non-null  float64\n",
      " 5   Popularity  191387 non-null  float64\n",
      " 6   Link        191387 non-null  object \n",
      "dtypes: float64(2), object(5)\n",
      "memory usage: 11.7+ MB\n"
     ]
    }
   ],
   "source": [
    "lyrics_en.info()"
   ]
  },
  {
   "cell_type": "code",
   "execution_count": 13,
   "id": "c035d4ef",
   "metadata": {
    "scrolled": false
   },
   "outputs": [
    {
     "data": {
      "text/html": [
       "<div>\n",
       "<style scoped>\n",
       "    .dataframe tbody tr th:only-of-type {\n",
       "        vertical-align: middle;\n",
       "    }\n",
       "\n",
       "    .dataframe tbody tr th {\n",
       "        vertical-align: top;\n",
       "    }\n",
       "\n",
       "    .dataframe thead th {\n",
       "        text-align: right;\n",
       "    }\n",
       "</style>\n",
       "<table border=\"1\" class=\"dataframe\">\n",
       "  <thead>\n",
       "    <tr style=\"text-align: right;\">\n",
       "      <th></th>\n",
       "      <th>Lyric</th>\n",
       "      <th>Genres</th>\n",
       "    </tr>\n",
       "  </thead>\n",
       "  <tbody>\n",
       "    <tr>\n",
       "      <th>72162</th>\n",
       "      <td>She struts into the room\\nWell I don't know he...</td>\n",
       "      <td>Rock; Hard Rock; Heavy Metal</td>\n",
       "    </tr>\n",
       "    <tr>\n",
       "      <th>78531</th>\n",
       "      <td>Thought that I'd be strong enough for both of ...</td>\n",
       "      <td>Punk Rock; Hardcore</td>\n",
       "    </tr>\n",
       "    <tr>\n",
       "      <th>39962</th>\n",
       "      <td>I can't stand the mornin' light\\nNow you're go...</td>\n",
       "      <td>Soft Rock; Disco; Pop</td>\n",
       "    </tr>\n",
       "  </tbody>\n",
       "</table>\n",
       "</div>"
      ],
      "text/plain": [
       "                                                   Lyric  \\\n",
       "72162  She struts into the room\\nWell I don't know he...   \n",
       "78531  Thought that I'd be strong enough for both of ...   \n",
       "39962  I can't stand the mornin' light\\nNow you're go...   \n",
       "\n",
       "                             Genres  \n",
       "72162  Rock; Hard Rock; Heavy Metal  \n",
       "78531           Punk Rock; Hardcore  \n",
       "39962         Soft Rock; Disco; Pop  "
      ]
     },
     "execution_count": 13,
     "metadata": {},
     "output_type": "execute_result"
    }
   ],
   "source": [
    "lyrics_en[['Lyric','Genres']].sample(n=3, random_state=1)"
   ]
  },
  {
   "cell_type": "code",
   "execution_count": 21,
   "id": "c0890c05",
   "metadata": {},
   "outputs": [
    {
     "name": "stdout",
     "output_type": "stream",
     "text": [
      "length of the list: 191387\n"
     ]
    },
    {
     "data": {
      "text/plain": [
       "[{'Lyric': \"I feel so unsure\\nAs I take your hand and lead you to the dance floor\\nAs the music dies, something in your eyes\\nCalls to mind a silver screen\\nAnd all those sad goodbyes\\n\\nI'm never gonna dance again\\nGuilty feet have got no rhythm\\nThough it's easy to pretend\\nI know you're not a fool\\n\\nShould've known better than to cheat a friend\\nAnd waste the chance that I've been given\\nSo I'm never gonna dance again\\nThe way I danced with you\\n\\nTime can never mend\\nThe careless whispers of a good friend\\nTo the heart and mind\\nIgnorance is kind\\nThere's no comfort in the truth\\nPain is all you'll find\\n\\nI'm never gonna dance again\\nGuilty feet have got no rhythm\\nThough it's easy to pretend\\nI know you're not a fool\\n\\nShould've known better than to cheat a friend\\nAnd waste this chance that I've been given\\nSo I'm never gonna dance again\\nThe way I danced with you\\n\\nNever without your love\\n\\nTonight the music seems so loud\\nI wish that we could lose this crowd\\nMaybe it's better this way\\nWe'd hurt each other with the things we'd want to say\\n\\nWe could have been so good together\\nWe could have lived this dance forever\\nBut now who's gonna dance with me?\\nPlease stay\\n\\nAnd I'm never gonna dance again\\nGuilty feet have got no rhythm\\nThough it's easy to pretend\\nI know you're not a fool\\n\\nShould've known better than to cheat a friend\\nAnd waste the chance that I've been given\\nSo I'm never gonna dance again\\nThe way I danced with you\\n\\n(Now that you're gone) Now that you're gone\\n(Now that you're gone) What I did's so wrong, so wrong\\nThat you had to leave me alone?\",\n",
       "  'Genres': 'Pop; Axé; Romântico'},\n",
       " {'Lyric': \"Don't let them fool, ya\\nOr even try to school, ya! Oh, no!\\nWe've got a mind of our own\\nSo go to hell if what you? re thinking is not right!\\nLove would never leave us alone\\nA-yin the darkness there must come out to light\\n\\nCould you be loved and be loved?\\nCould you be loved and be loved?\\n\\nDon't let them change ya, oh!\\nOr even rearrange ya! Oh, no!\\nWe've got a life to live\\nThey say: only, only\\nOnly the fittest of the fittest shall survive\\nStay alive! Oh!\\n\\nCould you be loved and be loved?\\nCould you be loved, wo now! And be loved?\\n\\nCould you be\\nCould you be\\nCould you be loved?\\n\\nSay something!\\n\\nSe ligue na ternura\\nSe ligue no amor\\nSe ligue na ternura\\nSe ligue na cor\\nSe ligue na alegria\\nSe ligue no prazer\\nSe ligue, fique atento, se ligue, fique astral\\n\\nCould you be loved and be loved?\",\n",
       "  'Genres': 'Pop; Axé; Romântico'},\n",
       " {'Lyric': \"Baby, let's cruise, away from here\\nDon't be confused, the way is clear\\nAnd if you want it you got it forever\\nThis is not a one night stand, baby\\n\\nLet the music take your mind\\nJust release & you will find\\nYou're gonna fly away\\nGlad you're goin' my way\\nI love it when we're cruisin' together\\nMusic is played for love\\nCruisin' is made for love\\nI love it when we're cruisin' together\\n\\nBaby, tonight belongs to us\\nEverything's right, do what you must\\nAnd inch by inch we get closer & closer\\n\\nTo every little part of each other, ooh, baby, yeah, so\\n\\nLet the music take your mind\\nJust release & you will find\\nYou're gonna fly away\\nGlad you're going my way\\nI love it when we're cruisin' together\\nMusic is played for love\\nCruisin' is made for love\\nI love it when we're cruisin' together\\n\\nYou're gonna fly away\\n\\nCruise with me, baby\",\n",
       "  'Genres': 'Pop; Axé; Romântico'}]"
      ]
     },
     "execution_count": 21,
     "metadata": {},
     "output_type": "execute_result"
    }
   ],
   "source": [
    "lyrics_genres_dic = lyrics_en[['Lyric','Genres']].to_dict(\"records\")\n",
    "print(\"length of the list:\",len(lyrics_genres_dic))\n",
    "lyrics_genres_dic[0:3]"
   ]
  },
  {
   "cell_type": "code",
   "execution_count": 22,
   "id": "3af9a273",
   "metadata": {},
   "outputs": [
    {
     "data": {
      "text/plain": [
       "[{'Lyric': \"I feel so unsure\\nAs I take your hand and lead you to the dance floor\\nAs the music dies, something in your eyes\\nCalls to mind a silver screen\\nAnd all those sad goodbyes\\n\\nI'm never gonna dance again\\nGuilty feet have got no rhythm\\nThough it's easy to pretend\\nI know you're not a fool\\n\\nShould've known better than to cheat a friend\\nAnd waste the chance that I've been given\\nSo I'm never gonna dance again\\nThe way I danced with you\\n\\nTime can never mend\\nThe careless whispers of a good friend\\nTo the heart and mind\\nIgnorance is kind\\nThere's no comfort in the truth\\nPain is all you'll find\\n\\nI'm never gonna dance again\\nGuilty feet have got no rhythm\\nThough it's easy to pretend\\nI know you're not a fool\\n\\nShould've known better than to cheat a friend\\nAnd waste this chance that I've been given\\nSo I'm never gonna dance again\\nThe way I danced with you\\n\\nNever without your love\\n\\nTonight the music seems so loud\\nI wish that we could lose this crowd\\nMaybe it's better this way\\nWe'd hurt each other with the things we'd want to say\\n\\nWe could have been so good together\\nWe could have lived this dance forever\\nBut now who's gonna dance with me?\\nPlease stay\\n\\nAnd I'm never gonna dance again\\nGuilty feet have got no rhythm\\nThough it's easy to pretend\\nI know you're not a fool\\n\\nShould've known better than to cheat a friend\\nAnd waste the chance that I've been given\\nSo I'm never gonna dance again\\nThe way I danced with you\\n\\n(Now that you're gone) Now that you're gone\\n(Now that you're gone) What I did's so wrong, so wrong\\nThat you had to leave me alone?\",\n",
       "  'Genres': 'Pop; Axé; Romântico'},\n",
       " {'Lyric': \"Don't let them fool, ya\\nOr even try to school, ya! Oh, no!\\nWe've got a mind of our own\\nSo go to hell if what you? re thinking is not right!\\nLove would never leave us alone\\nA-yin the darkness there must come out to light\\n\\nCould you be loved and be loved?\\nCould you be loved and be loved?\\n\\nDon't let them change ya, oh!\\nOr even rearrange ya! Oh, no!\\nWe've got a life to live\\nThey say: only, only\\nOnly the fittest of the fittest shall survive\\nStay alive! Oh!\\n\\nCould you be loved and be loved?\\nCould you be loved, wo now! And be loved?\\n\\nCould you be\\nCould you be\\nCould you be loved?\\n\\nSay something!\\n\\nSe ligue na ternura\\nSe ligue no amor\\nSe ligue na ternura\\nSe ligue na cor\\nSe ligue na alegria\\nSe ligue no prazer\\nSe ligue, fique atento, se ligue, fique astral\\n\\nCould you be loved and be loved?\",\n",
       "  'Genres': 'Pop; Axé; Romântico'},\n",
       " {'Lyric': \"Baby, let's cruise, away from here\\nDon't be confused, the way is clear\\nAnd if you want it you got it forever\\nThis is not a one night stand, baby\\n\\nLet the music take your mind\\nJust release & you will find\\nYou're gonna fly away\\nGlad you're goin' my way\\nI love it when we're cruisin' together\\nMusic is played for love\\nCruisin' is made for love\\nI love it when we're cruisin' together\\n\\nBaby, tonight belongs to us\\nEverything's right, do what you must\\nAnd inch by inch we get closer & closer\\n\\nTo every little part of each other, ooh, baby, yeah, so\\n\\nLet the music take your mind\\nJust release & you will find\\nYou're gonna fly away\\nGlad you're going my way\\nI love it when we're cruisin' together\\nMusic is played for love\\nCruisin' is made for love\\nI love it when we're cruisin' together\\n\\nYou're gonna fly away\\n\\nCruise with me, baby\",\n",
       "  'Genres': 'Pop; Axé; Romântico'}]"
      ]
     },
     "execution_count": 22,
     "metadata": {},
     "output_type": "execute_result"
    }
   ],
   "source": [
    "lg3 = lyrics_genres_dic[0:3]\n",
    "lg3"
   ]
  },
  {
   "cell_type": "code",
   "execution_count": null,
   "id": "f42f4258",
   "metadata": {},
   "outputs": [],
   "source": []
  },
  {
   "cell_type": "code",
   "execution_count": null,
   "id": "ca690413",
   "metadata": {},
   "outputs": [],
   "source": []
  },
  {
   "cell_type": "markdown",
   "id": "e210e104",
   "metadata": {},
   "source": [
    "#### References:\n",
    "https://www.kaggle.com/code/markmaler/song-popularity/notebook"
   ]
  },
  {
   "cell_type": "code",
   "execution_count": null,
   "id": "e96da259",
   "metadata": {},
   "outputs": [],
   "source": []
  }
 ],
 "metadata": {
  "kernelspec": {
   "display_name": "Python 3 (ipykernel)",
   "language": "python",
   "name": "python3"
  },
  "language_info": {
   "codemirror_mode": {
    "name": "ipython",
    "version": 3
   },
   "file_extension": ".py",
   "mimetype": "text/x-python",
   "name": "python",
   "nbconvert_exporter": "python",
   "pygments_lexer": "ipython3",
   "version": "3.9.13"
  }
 },
 "nbformat": 4,
 "nbformat_minor": 5
}
