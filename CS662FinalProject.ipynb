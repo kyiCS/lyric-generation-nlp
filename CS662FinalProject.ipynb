{
 "cells": [
  {
   "cell_type": "markdown",
   "id": "1824140c",
   "metadata": {},
   "source": [
    "# CS662 Final Project - Lyric generation\n",
    "Dawson Sargent, Chenghui Song, Kelvin Yi"
   ]
  },
  {
   "cell_type": "markdown",
   "id": "ab6da509",
   "metadata": {},
   "source": [
    "##### Data source: https://www.kaggle.com/datasets/neisse/scrapped-lyrics-from-6-genres?select=lyrics-data.csv \n",
    "Two csv datasets are needed:\n",
    "* lyrics-data.csv: contains Link to the artist profile in Vagalume.com, Song's name, Link to the song lyrics in Vagalume.com, Song lyrics, Lyrics' language\n",
    "* artists-data.csv: contains Artist name, Musical styles, Number os songs the artista has, Popularity score based on how much each artist/lyric is accessed on the website, Link to the artist profile in Vagalume.com"
   ]
  },
  {
   "cell_type": "markdown",
   "id": "a2f56edd",
   "metadata": {},
   "source": [
    "The requirements_cs is just a backup of my current enviroment. You may not need all the dependencies. -Chenghui"
   ]
  },
  {
   "cell_type": "code",
   "execution_count": 2,
   "id": "80deecbe",
   "metadata": {},
   "outputs": [],
   "source": [
    "import pandas as pd"
   ]
  },
  {
   "cell_type": "code",
   "execution_count": 3,
   "id": "1a57e431",
   "metadata": {
    "scrolled": false
   },
   "outputs": [
    {
     "name": "stdout",
     "output_type": "stream",
     "text": [
      "shape of the dataset: (191387, 7)\n"
     ]
    },
    {
     "data": {
      "text/html": [
       "<div>\n",
       "<style scoped>\n",
       "    .dataframe tbody tr th:only-of-type {\n",
       "        vertical-align: middle;\n",
       "    }\n",
       "\n",
       "    .dataframe tbody tr th {\n",
       "        vertical-align: top;\n",
       "    }\n",
       "\n",
       "    .dataframe thead th {\n",
       "        text-align: right;\n",
       "    }\n",
       "</style>\n",
       "<table border=\"1\" class=\"dataframe\">\n",
       "  <thead>\n",
       "    <tr style=\"text-align: right;\">\n",
       "      <th></th>\n",
       "      <th>SName</th>\n",
       "      <th>Lyric</th>\n",
       "      <th>Genres</th>\n",
       "      <th>Artist</th>\n",
       "      <th>Songs</th>\n",
       "      <th>Popularity</th>\n",
       "      <th>Link</th>\n",
       "    </tr>\n",
       "  </thead>\n",
       "  <tbody>\n",
       "    <tr>\n",
       "      <th>0</th>\n",
       "      <td>Careless Whisper</td>\n",
       "      <td>I feel so unsure\\nAs I take your hand and lead...</td>\n",
       "      <td>Pop; Axé; Romântico</td>\n",
       "      <td>Ivete Sangalo</td>\n",
       "      <td>313.0</td>\n",
       "      <td>4.4</td>\n",
       "      <td>/ivete-sangalo/</td>\n",
       "    </tr>\n",
       "    <tr>\n",
       "      <th>1</th>\n",
       "      <td>Could You Be Loved / Citação Musical do Rap: S...</td>\n",
       "      <td>Don't let them fool, ya\\nOr even try to school...</td>\n",
       "      <td>Pop; Axé; Romântico</td>\n",
       "      <td>Ivete Sangalo</td>\n",
       "      <td>313.0</td>\n",
       "      <td>4.4</td>\n",
       "      <td>/ivete-sangalo/</td>\n",
       "    </tr>\n",
       "    <tr>\n",
       "      <th>2</th>\n",
       "      <td>Cruisin' (Part. Saulo)</td>\n",
       "      <td>Baby, let's cruise, away from here\\nDon't be c...</td>\n",
       "      <td>Pop; Axé; Romântico</td>\n",
       "      <td>Ivete Sangalo</td>\n",
       "      <td>313.0</td>\n",
       "      <td>4.4</td>\n",
       "      <td>/ivete-sangalo/</td>\n",
       "    </tr>\n",
       "    <tr>\n",
       "      <th>3</th>\n",
       "      <td>Easy</td>\n",
       "      <td>Know it sounds funny\\nBut, I just can't stand ...</td>\n",
       "      <td>Pop; Axé; Romântico</td>\n",
       "      <td>Ivete Sangalo</td>\n",
       "      <td>313.0</td>\n",
       "      <td>4.4</td>\n",
       "      <td>/ivete-sangalo/</td>\n",
       "    </tr>\n",
       "    <tr>\n",
       "      <th>4</th>\n",
       "      <td>For Your Babies (The Voice cover)</td>\n",
       "      <td>You've got that look again\\nThe one I hoped I ...</td>\n",
       "      <td>Pop; Axé; Romântico</td>\n",
       "      <td>Ivete Sangalo</td>\n",
       "      <td>313.0</td>\n",
       "      <td>4.4</td>\n",
       "      <td>/ivete-sangalo/</td>\n",
       "    </tr>\n",
       "  </tbody>\n",
       "</table>\n",
       "</div>"
      ],
      "text/plain": [
       "                                               SName  \\\n",
       "0                                   Careless Whisper   \n",
       "1  Could You Be Loved / Citação Musical do Rap: S...   \n",
       "2                             Cruisin' (Part. Saulo)   \n",
       "3                                               Easy   \n",
       "4                  For Your Babies (The Voice cover)   \n",
       "\n",
       "                                               Lyric               Genres  \\\n",
       "0  I feel so unsure\\nAs I take your hand and lead...  Pop; Axé; Romântico   \n",
       "1  Don't let them fool, ya\\nOr even try to school...  Pop; Axé; Romântico   \n",
       "2  Baby, let's cruise, away from here\\nDon't be c...  Pop; Axé; Romântico   \n",
       "3  Know it sounds funny\\nBut, I just can't stand ...  Pop; Axé; Romântico   \n",
       "4  You've got that look again\\nThe one I hoped I ...  Pop; Axé; Romântico   \n",
       "\n",
       "          Artist  Songs  Popularity             Link  \n",
       "0  Ivete Sangalo  313.0         4.4  /ivete-sangalo/  \n",
       "1  Ivete Sangalo  313.0         4.4  /ivete-sangalo/  \n",
       "2  Ivete Sangalo  313.0         4.4  /ivete-sangalo/  \n",
       "3  Ivete Sangalo  313.0         4.4  /ivete-sangalo/  \n",
       "4  Ivete Sangalo  313.0         4.4  /ivete-sangalo/  "
      ]
     },
     "execution_count": 3,
     "metadata": {},
     "output_type": "execute_result"
    }
   ],
   "source": [
    "# Merge the two dataset to include the columns we want\n",
    "lyrics = pd.read_csv(\"lyrics-data.csv\") # \n",
    "lyrics=lyrics.query(\"language=='en'\")\n",
    "artists = pd.read_csv(\"artists-data.csv\")\n",
    "lyrics_en = pd.merge(lyrics,artists,left_on=\"ALink\",right_on=\"Link\")\n",
    "lyrics_en = lyrics_en[[\"SName\",\"Lyric\",\"Genres\",\"Artist\",\"Songs\",\"Popularity\",\"Link\"]]\n",
    "        # Note: Popularity score based on how much each artist/lyric is accessed on the website\n",
    "print(\"shape of the dataset:\",lyrics_en.shape)\n",
    "lyrics_en.head()"
   ]
  },
  {
   "cell_type": "code",
   "execution_count": null,
   "id": "c8596078",
   "metadata": {},
   "outputs": [],
   "source": []
  }
 ],
 "metadata": {
  "kernelspec": {
   "display_name": "Python 3 (ipykernel)",
   "language": "python",
   "name": "python3"
  },
  "language_info": {
   "codemirror_mode": {
    "name": "ipython",
    "version": 3
   },
   "file_extension": ".py",
   "mimetype": "text/x-python",
   "name": "python",
   "nbconvert_exporter": "python",
   "pygments_lexer": "ipython3",
   "version": "3.8.13"
  }
 },
 "nbformat": 4,
 "nbformat_minor": 5
}
